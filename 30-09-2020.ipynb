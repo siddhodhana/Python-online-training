{
 "cells": [
  {
   "cell_type": "markdown",
   "metadata": {},
   "source": [
    "**Types of Variables**\n",
    "- two types\n",
    "    - Instance variable\n",
    "    - Class variable(Static variable)"
   ]
  },
  {
   "cell_type": "code",
   "execution_count": 5,
   "metadata": {},
   "outputs": [
    {
     "ename": "TypeError",
     "evalue": "__init__() takes 1 positional argument but 2 were given",
     "output_type": "error",
     "traceback": [
      "\u001b[1;31m---------------------------------------------------------------------------\u001b[0m",
      "\u001b[1;31mTypeError\u001b[0m                                 Traceback (most recent call last)",
      "\u001b[1;32m<ipython-input-5-dd41659b5fef>\u001b[0m in \u001b[0;36m<module>\u001b[1;34m\u001b[0m\n\u001b[0;32m      6\u001b[0m \u001b[1;33m\u001b[0m\u001b[0m\n\u001b[0;32m      7\u001b[0m \u001b[0mAudi\u001b[0m\u001b[1;33m=\u001b[0m\u001b[0mCar\u001b[0m\u001b[1;33m(\u001b[0m\u001b[1;33m)\u001b[0m\u001b[1;33m\u001b[0m\u001b[1;33m\u001b[0m\u001b[0m\n\u001b[1;32m----> 8\u001b[1;33m \u001b[0mFerari\u001b[0m\u001b[1;33m=\u001b[0m\u001b[0mCar\u001b[0m\u001b[1;33m(\u001b[0m\u001b[1;34m\"Ble\"\u001b[0m\u001b[1;33m)\u001b[0m\u001b[1;33m\u001b[0m\u001b[1;33m\u001b[0m\u001b[0m\n\u001b[0m\u001b[0;32m      9\u001b[0m \u001b[1;33m\u001b[0m\u001b[0m\n\u001b[0;32m     10\u001b[0m \u001b[1;31m#Ferari.colour=\"Blue\"\u001b[0m\u001b[1;33m\u001b[0m\u001b[1;33m\u001b[0m\u001b[1;33m\u001b[0m\u001b[0m\n",
      "\u001b[1;31mTypeError\u001b[0m: __init__() takes 1 positional argument but 2 were given"
     ]
    }
   ],
   "source": [
    "class Car:\n",
    "    wheels = 4\n",
    "    def __init__(self):\n",
    "        self.milage = 10\n",
    "        self.colour = \"Red\"\n",
    "        \n",
    "Audi=Car()\n",
    "\n",
    "Ferari=Car()\n",
    "\n",
    "#Ferari.colour=\"Blue\"\n",
    "\n",
    "print(Audi.wheels,Audi.colour,Audi.milage)\n",
    "print(Ferari.wheels,Ferari.colour,Ferari.milage)"
   ]
  },
  {
   "cell_type": "markdown",
   "metadata": {},
   "source": [
    "**Types of methods**\n",
    "- Instance methods\n",
    "- Class methods\n",
    "- Static methods"
   ]
  },
  {
   "cell_type": "code",
   "execution_count": 12,
   "metadata": {},
   "outputs": [
    {
     "name": "stdout",
     "output_type": "stream",
     "text": [
      "48.666666666666664\n",
      "APSSDC\n",
      "This is python training program\n",
      "None\n"
     ]
    }
   ],
   "source": [
    "class Student:\n",
    "    college = \"APSSDC\"\n",
    "    collegecode=\"AP\"\n",
    "    \n",
    "    def __init__(self,sm1,sm2,sm3):\n",
    "        \n",
    "        self.sm1=sm1\n",
    "        self.sm2=sm2\n",
    "        self.sm3=sm3\n",
    "    def avg(self):\n",
    "        return (self.sm1+self.sm2+self.sm3)/3\n",
    "    \n",
    "    @classmethod\n",
    "    def classinfo(cls):\n",
    "        return cls.college\n",
    "    \n",
    "    @staticmethod\n",
    "    def info():\n",
    "        print(\"This is python training program\")\n",
    "\n",
    "s1 = Student(45,67,34)\n",
    "s2 = Student(87,98,45)\n",
    "\n",
    "print(s1.avg())\n",
    "print(Student.classinfo())\n",
    "print(Student.info())"
   ]
  },
  {
   "cell_type": "code",
   "execution_count": 15,
   "metadata": {},
   "outputs": [
    {
     "name": "stdout",
     "output_type": "stream",
     "text": [
      "48.666666666666664\n",
      "('apssdc', 'ap')\n"
     ]
    }
   ],
   "source": [
    "class Student:\n",
    "    college=\"apssdc\"\n",
    "    collegecode=\"ap\"\n",
    "    \n",
    "    def __init__(self,sm1,sm2,sm3):\n",
    "        self.sm1=sm1\n",
    "        self.sm2=sm2\n",
    "        self.sm3=sm3\n",
    "    def avg(self):\n",
    "        return (self.sm1+self.sm2+self.sm3)/3\n",
    "    \n",
    "    @classmethod #decorator\n",
    "    def classinfo(cls):\n",
    "        return cls.college,cls.collegecode\n",
    "    @staticmethod\n",
    "    def info():#static variable\n",
    "        print(\"this is python training program\")\n",
    "s1 = Student(45,67,34)\n",
    "s2 = Student(87,98,45)\n",
    "\n",
    "print(s1.avg())\n",
    "print(Student.classinfo())\n"
   ]
  },
  {
   "cell_type": "code",
   "execution_count": 40,
   "metadata": {},
   "outputs": [],
   "source": [
    "class Car:\n",
    "    def __init__(self,brand,colour,fuel_perc):\n",
    "        self.brand = brand\n",
    "        self.colour = colour\n",
    "        self.fuel = fuel_perc\n",
    "        self.isStarted = False\n",
    "    def getFuelStatus(self):\n",
    "        print(\"fuel available\",self.fuel,'%')\n",
    "    \n",
    "    def fillFuelTank(self,fuel_perc):\n",
    "        self.fuel = fuel_perc\n",
    "        print(\"Tank was filled with\",self.fuel)\n",
    "    def start (self):\n",
    "        if self.isStarted:\n",
    "            print(\"Already started\")\n",
    "            return None\n",
    "        if self.fuel > 0:\n",
    "            print(\"car was started\")\n",
    "            self.isStarted = True\n",
    "            self.fuel=self.fuel-10\n",
    "        else:\n",
    "            print(\"No fuel\")\n",
    "            self.isStarted=False\n",
    "    def stop(self):\n",
    "        if self.isStarted==False:\n",
    "            print(\"Car already stopped\")\n",
    "            return None\n",
    "        else:\n",
    "            print(\"Car was stopped\")\n",
    "        self.isStarted=False\n",
    "            "
   ]
  },
  {
   "cell_type": "code",
   "execution_count": 41,
   "metadata": {},
   "outputs": [],
   "source": [
    "mycar = Car(\"Audi\",\"black\",60)"
   ]
  },
  {
   "cell_type": "code",
   "execution_count": 42,
   "metadata": {},
   "outputs": [
    {
     "name": "stdout",
     "output_type": "stream",
     "text": [
      "fuel available 60 %\n"
     ]
    }
   ],
   "source": [
    "mycar.getFuelStatus()"
   ]
  },
  {
   "cell_type": "code",
   "execution_count": 43,
   "metadata": {},
   "outputs": [
    {
     "name": "stdout",
     "output_type": "stream",
     "text": [
      "car was started\n"
     ]
    }
   ],
   "source": [
    "mycar.start()"
   ]
  },
  {
   "cell_type": "code",
   "execution_count": 44,
   "metadata": {},
   "outputs": [
    {
     "name": "stdout",
     "output_type": "stream",
     "text": [
      "fuel available 50 %\n"
     ]
    }
   ],
   "source": [
    "mycar.getFuelStatus()"
   ]
  },
  {
   "cell_type": "code",
   "execution_count": 45,
   "metadata": {},
   "outputs": [
    {
     "name": "stdout",
     "output_type": "stream",
     "text": [
      "Already started\n"
     ]
    }
   ],
   "source": [
    "mycar.start()"
   ]
  },
  {
   "cell_type": "code",
   "execution_count": 46,
   "metadata": {},
   "outputs": [
    {
     "name": "stdout",
     "output_type": "stream",
     "text": [
      "Tank was filled with 10\n"
     ]
    }
   ],
   "source": [
    "mycar.fillFuelTank(10)"
   ]
  },
  {
   "cell_type": "code",
   "execution_count": 47,
   "metadata": {},
   "outputs": [
    {
     "name": "stdout",
     "output_type": "stream",
     "text": [
      "fuel available 10 %\n"
     ]
    }
   ],
   "source": [
    "mycar.getFuelStatus()"
   ]
  },
  {
   "cell_type": "code",
   "execution_count": 48,
   "metadata": {},
   "outputs": [
    {
     "name": "stdout",
     "output_type": "stream",
     "text": [
      "Car was stopped\n"
     ]
    }
   ],
   "source": [
    "mycar.stop()"
   ]
  },
  {
   "cell_type": "code",
   "execution_count": 49,
   "metadata": {},
   "outputs": [
    {
     "name": "stdout",
     "output_type": "stream",
     "text": [
      "Car already stopped\n"
     ]
    }
   ],
   "source": [
    "mycar.stop()"
   ]
  },
  {
   "cell_type": "code",
   "execution_count": 50,
   "metadata": {},
   "outputs": [
    {
     "name": "stdout",
     "output_type": "stream",
     "text": [
      "fuel available 10 %\n"
     ]
    }
   ],
   "source": [
    "mycar.getFuelStatus()"
   ]
  },
  {
   "cell_type": "code",
   "execution_count": 51,
   "metadata": {},
   "outputs": [
    {
     "name": "stdout",
     "output_type": "stream",
     "text": [
      "car was started\n"
     ]
    }
   ],
   "source": [
    "mycar.start()"
   ]
  },
  {
   "cell_type": "code",
   "execution_count": 52,
   "metadata": {},
   "outputs": [
    {
     "name": "stdout",
     "output_type": "stream",
     "text": [
      "fuel available 0 %\n"
     ]
    }
   ],
   "source": [
    "mycar.getFuelStatus()"
   ]
  },
  {
   "cell_type": "code",
   "execution_count": 53,
   "metadata": {},
   "outputs": [
    {
     "name": "stdout",
     "output_type": "stream",
     "text": [
      "Car was stopped\n"
     ]
    }
   ],
   "source": [
    "mycar.stop()"
   ]
  },
  {
   "cell_type": "code",
   "execution_count": 54,
   "metadata": {},
   "outputs": [
    {
     "name": "stdout",
     "output_type": "stream",
     "text": [
      "No fuel\n"
     ]
    }
   ],
   "source": [
    "mycar.start()"
   ]
  },
  {
   "cell_type": "markdown",
   "metadata": {},
   "source": [
    "**Inheritance**\n",
    "- we are trying to inhert something from parent class to child class\n",
    "- transfering characteristics of parent class"
   ]
  },
  {
   "cell_type": "code",
   "execution_count": 67,
   "metadata": {},
   "outputs": [],
   "source": [
    "# single inheritance\n",
    "# single parent and single child\n",
    "\n",
    "class Class_A:\n",
    "    a,b=1,2\n",
    "    def display():\n",
    "        print(\"Iam from class_A\")\n",
    "class Class_B(Class_A):\n",
    "    c,d=4,5\n",
    "    def show():\n",
    "        print(\"Iam fromC\")"
   ]
  },
  {
   "cell_type": "code",
   "execution_count": 68,
   "metadata": {},
   "outputs": [],
   "source": [
    "obj = Class_B"
   ]
  },
  {
   "cell_type": "code",
   "execution_count": 69,
   "metadata": {},
   "outputs": [
    {
     "name": "stdout",
     "output_type": "stream",
     "text": [
      "Iam from class_A\n"
     ]
    }
   ],
   "source": [
    "obj.display()"
   ]
  },
  {
   "cell_type": "markdown",
   "metadata": {},
   "source": [
    "**Multi level inheritance**"
   ]
  },
  {
   "cell_type": "code",
   "execution_count": 70,
   "metadata": {},
   "outputs": [],
   "source": [
    "class Class_A:\n",
    "    def display():\n",
    "        print(\"Iam from class_A\")\n",
    "class Class_B:\n",
    "    def show():\n",
    "        print(\"Iam from Class_b\")\n",
    "class Class_c:\n",
    "    def visible():\n",
    "        print(\"Iam from class_C\")"
   ]
  },
  {
   "cell_type": "code",
   "execution_count": null,
   "metadata": {},
   "outputs": [],
   "source": []
  }
 ],
 "metadata": {
  "kernelspec": {
   "display_name": "Python 3",
   "language": "python",
   "name": "python3"
  },
  "language_info": {
   "codemirror_mode": {
    "name": "ipython",
    "version": 3
   },
   "file_extension": ".py",
   "mimetype": "text/x-python",
   "name": "python",
   "nbconvert_exporter": "python",
   "pygments_lexer": "ipython3",
   "version": "3.7.3"
  }
 },
 "nbformat": 4,
 "nbformat_minor": 2
}
