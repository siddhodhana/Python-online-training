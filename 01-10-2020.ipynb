{
 "cells": [
  {
   "cell_type": "markdown",
   "metadata": {},
   "source": [
    "**Multilevellevel Inheritance**"
   ]
  },
  {
   "cell_type": "code",
   "execution_count": 4,
   "metadata": {},
   "outputs": [],
   "source": [
    "class A:\n",
    "    def fn_A():\n",
    "        print(\"Iam from ClassA\")\n",
    "class B:\n",
    "    def fn_B():\n",
    "        print(\"Iam from ClassB\")\n",
    "class C(A,B):\n",
    "    def fn_C():\n",
    "        print(\"Iam from ClassC\")"
   ]
  },
  {
   "cell_type": "code",
   "execution_count": 6,
   "metadata": {},
   "outputs": [
    {
     "name": "stdout",
     "output_type": "stream",
     "text": [
      "Iam from ClassA\n",
      "None\n",
      "Iam from ClassB\n",
      "None\n",
      "Iam from ClassC\n",
      "None\n"
     ]
    }
   ],
   "source": [
    "obj=C\n",
    "\n",
    "print(obj.fn_A())\n",
    "print(obj.fn_B())\n",
    "print(obj.fn_C())"
   ]
  },
  {
   "cell_type": "code",
   "execution_count": 18,
   "metadata": {},
   "outputs": [],
   "source": [
    "class A:\n",
    "    def __init__(self):\n",
    "        print(\"Intializion of A\")\n",
    "        \n",
    "    def fn_A(self):\n",
    "        print(\"Iam from ClassA\")\n",
    "class B:\n",
    "    def __init__(self):\n",
    "        print(\"Intialization of B\")\n",
    "    def fn_B(self):\n",
    "        print(\"Iam from ClassB\")\n",
    "class C(A,B):\n",
    "    def __init__(self):\n",
    "        super().__init__()\n",
    "        print(\"Intialization of C\")\n",
    "    def fn_C(self):\n",
    "        print(\"Iam from ClassC\")"
   ]
  },
  {
   "cell_type": "code",
   "execution_count": 19,
   "metadata": {},
   "outputs": [
    {
     "name": "stdout",
     "output_type": "stream",
     "text": [
      "Intializion of A\n",
      "Intialization of C\n",
      "<__main__.C object at 0x0000017643BFD128>\n",
      "Iam from ClassC\n",
      "None\n"
     ]
    }
   ],
   "source": [
    "obj_1=C()\n",
    "\n",
    "print(obj_1)\n",
    "print(obj_1.fn_C())"
   ]
  },
  {
   "cell_type": "code",
   "execution_count": null,
   "metadata": {},
   "outputs": [],
   "source": []
  }
 ],
 "metadata": {
  "kernelspec": {
   "display_name": "Python 3",
   "language": "python",
   "name": "python3"
  },
  "language_info": {
   "codemirror_mode": {
    "name": "ipython",
    "version": 3
   },
   "file_extension": ".py",
   "mimetype": "text/x-python",
   "name": "python",
   "nbconvert_exporter": "python",
   "pygments_lexer": "ipython3",
   "version": "3.7.3"
  }
 },
 "nbformat": 4,
 "nbformat_minor": 2
}
