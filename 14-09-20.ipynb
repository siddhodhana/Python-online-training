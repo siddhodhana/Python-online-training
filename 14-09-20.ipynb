{
 "cells": [
  {
   "cell_type": "code",
   "execution_count": 1,
   "metadata": {},
   "outputs": [
    {
     "name": "stdout",
     "output_type": "stream",
     "text": [
      "apssdc\n"
     ]
    }
   ],
   "source": [
    "print(\"apssdc\")"
   ]
  },
  {
   "cell_type": "markdown",
   "metadata": {},
   "source": [
    "#  welcome to python\n",
    "##  programming\n",
    "###  welcome to python\n",
    "####  welcome to python\n",
    "#####  welcome to python\n",
    "######  welcome to python\n",
    "\n"
   ]
  },
  {
   "cell_type": "markdown",
   "metadata": {},
   "source": [
    "**sakhambari**"
   ]
  },
  {
   "cell_type": "markdown",
   "metadata": {},
   "source": [
    "**sakhambari**    \n",
    "__boldletters__    \n",
    "*italic*  \n",
    "***bold & italic***    \n",
    "this is apssdc organization.    \n",
    "second line.    \n",
    "siddhodhana sakhambari  \n",
    "\n"
   ]
  },
  {
   "cell_type": "markdown",
   "metadata": {},
   "source": [
    "- apssdc\n",
    "- siddhodhana\n",
    "- sakhambari\n",
    "    + python\n",
    "    + online\n",
    "    + programming\n",
    "        * east godavari\n",
    "        * krishna\n",
    "        * west\n",
    "        * guntur\n",
    "          \n",
    "    "
   ]
  },
  {
   "cell_type": "markdown",
   "metadata": {},
   "source": [
    "1. python\n",
    "2. online\n",
    "3. programming\n",
    "4. apssdc  \n",
    "    a. siddhodhana  \n",
    "    b. sakhambari  \n",
    "    c. trainer  \n",
    "        A. one\n",
    "        B. two\n",
    "        c. three\n",
    "    "
   ]
  },
  {
   "cell_type": "markdown",
   "metadata": {},
   "source": [
    "A. ONE  \n",
    "B. TWO  \n",
    "C. three    \n",
    "  1. aditya\n",
    "  2. srkr\n",
    "  3. chaitanya  \n",
    "     a. jhuguh  \n",
    "     b. jhgft"
   ]
  },
  {
   "cell_type": "code",
   "execution_count": null,
   "metadata": {},
   "outputs": [],
   "source": []
  }
 ],
 "metadata": {
  "kernelspec": {
   "display_name": "Python 3",
   "language": "python",
   "name": "python3"
  },
  "language_info": {
   "codemirror_mode": {
    "name": "ipython",
    "version": 3
   },
   "file_extension": ".py",
   "mimetype": "text/x-python",
   "name": "python",
   "nbconvert_exporter": "python",
   "pygments_lexer": "ipython3",
   "version": "3.7.6"
  }
 },
 "nbformat": 4,
 "nbformat_minor": 4
}
